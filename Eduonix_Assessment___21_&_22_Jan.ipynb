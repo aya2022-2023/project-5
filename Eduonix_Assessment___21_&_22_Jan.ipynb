{
 "cells": [
  {
   "cell_type": "markdown",
   "metadata": {
    "id": "bsAv1ozGXUrX"
   },
   "source": [
    "## **Problem-1**"
   ]
  },
  {
   "cell_type": "code",
   "execution_count": 23,
   "metadata": {
    "id": "cXFu9xHC-2V-"
   },
   "outputs": [
    {
     "name": "stdout",
     "output_type": "stream",
     "text": [
      "Input a letter in here: A\n",
      "this letter A is a vowel\n"
     ]
    }
   ],
   "source": [
    "# Vowel or consonant\n",
    "# Write a Python program to check whether an alphabet is a vowel or consonant.\n",
    "letter = input(\"Input a letter in here: \")\n",
    "\n",
    "\n",
    "if letter not in ('a', 'e', 'i', 'o', 'u','A','E','U','O','I'):\n",
    "    print (f\"this letter {letter} is a constant\")\n",
    "else:\n",
    "    print (f\"this letter {letter} is a vowel\")\n",
    "    \n"
   ]
  },
  {
   "cell_type": "markdown",
   "metadata": {
    "id": "gSafBUj6VooG"
   },
   "source": [
    "Input:\n",
    "A\n",
    "\n",
    "Output:\n",
    "Vowel"
   ]
  },
  {
   "cell_type": "markdown",
   "metadata": {
    "id": "IPc2-6baP-MD"
   },
   "source": []
  },
  {
   "cell_type": "markdown",
   "metadata": {
    "id": "4eHQboAXPbh3"
   },
   "source": [
    "# Problem 2"
   ]
  },
  {
   "cell_type": "markdown",
   "metadata": {
    "id": "EnHi4attaWKS"
   },
   "source": [
    "# Calculate sum \n",
    "\n",
    "Write a Python program to calculate the sum of n integer numbers \n",
    "\n",
    "Sample output:\n",
    "\n",
    "\n",
    "Example :\n",
    "**Input:**\n",
    "2 4 6 8 10 \n",
    "\n",
    "**Output:**\n",
    "Sum of the above numbers are: 30"
   ]
  },
  {
   "cell_type": "code",
   "execution_count": 25,
   "metadata": {},
   "outputs": [
    {
     "name": "stdout",
     "output_type": "stream",
     "text": [
      "the sum is 30\n"
     ]
    }
   ],
   "source": [
    "sum=0\n",
    "for num in [2,4,6,8,10]:\n",
    "    sum=sum+num\n",
    "    \n",
    "print(f\"the sum is {sum}\")\n",
    " "
   ]
  },
  {
   "cell_type": "code",
   "execution_count": 31,
   "metadata": {},
   "outputs": [
    {
     "name": "stdout",
     "output_type": "stream",
     "text": [
      "Input a number here: 5\n",
      "Input a number here: 2\n",
      "Input a number here: 3\n",
      "Input a number here: 4\n",
      "Input a number here: 5\n",
      "19.0\n"
     ]
    }
   ],
   "source": [
    "#or in general for example u can enter till 5 numbers\n",
    "sum=0\n",
    "for i in range(0,5): \n",
    "    number = float(input(\"Input a number here: \"))\n",
    "    sum=sum+number\n",
    "    \n",
    "print(sum)   \n",
    "   \n"
   ]
  },
  {
   "cell_type": "code",
   "execution_count": null,
   "metadata": {},
   "outputs": [],
   "source": []
  }
 ],
 "metadata": {
  "colab": {
   "provenance": []
  },
  "kernelspec": {
   "display_name": "Python 3 (ipykernel)",
   "language": "python",
   "name": "python3"
  },
  "language_info": {
   "codemirror_mode": {
    "name": "ipython",
    "version": 3
   },
   "file_extension": ".py",
   "mimetype": "text/x-python",
   "name": "python",
   "nbconvert_exporter": "python",
   "pygments_lexer": "ipython3",
   "version": "3.9.13"
  }
 },
 "nbformat": 4,
 "nbformat_minor": 1
}
